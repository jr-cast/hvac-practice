{
 "cells": [
  {
   "cell_type": "markdown",
   "source": [
    "Adding (heating) or removing (cooling) heat alone from moist air is represented by a horizontal line due to humidity ratio W remains unchanged. Figure 2 shows a device that adds heat to a stream of steady-flow moist air.\n",
    "\n",
    "For steady-flow conditions, the required rate of heat addition is:\n",
    "\n",
    "        1 q 2 = m da ( h 2 – h 1 )\n",
    "\n",
    "# Example 2: _Moist air sensible heating or cooling_\n",
    "\n",
    "Moist air, saturated at 2°C, enters a heating coil at a rate of 10 m 3 /s. Air leaves the coil at 40°C. Find the required rate of heat that needs to be added to the air stream to increase its temperature from 2°C to 40°C\n",
    "\n",
    "![image info](./static/fig2.png)\n"
   ],
   "metadata": {}
  },
  {
   "cell_type": "markdown",
   "source": [
    "Import of previously mentioned python libraries and selecting the desired Unit System, in this case it'll be SI:\n",
    "* psychrolib https://github.com/psychrometrics/psychrolib\n",
    "* psychrochart https://github.com/azogue/psychrochart"
   ],
   "metadata": {}
  },
  {
   "cell_type": "code",
   "execution_count": 43,
   "source": [
    "import psychrolib as psy \n",
    "import psychrochart as chart\n",
    "psy.SetUnitSystem(psy.SI) #Setting to SI units"
   ],
   "outputs": [],
   "metadata": {}
  },
  {
   "cell_type": "markdown",
   "source": [
    "As fig shows values on t1 and t2 are:\n",
    "1. Mass of dry air (mda) \n",
    "2. Enthalpy (h1)\n",
    "3. Humidity ratio (W)\n",
    "\n",
    "Due to steady-flow (m) and humidity ratio (W) remaining unchanged in a sensible process, values are equal in t1 and t2.  \n"
   ],
   "metadata": {}
  },
  {
   "cell_type": "markdown",
   "source": [
    "### Calculate initial values of t1 (2°C)   \n"
   ],
   "metadata": {}
  },
  {
   "cell_type": "code",
   "execution_count": 44,
   "source": [
    "# Mass flow air is given in cubic meters over secs (m3/s)\n",
    "mass_f = 10.0  "
   ],
   "outputs": [],
   "metadata": {}
  },
  {
   "cell_type": "markdown",
   "source": [
    "To retrieve t1's moist saturated enthalpy at 2°C we use psychrolib's method 'GetSatAirEnthalpy' This require to enter actual temperature value (°C) and atmospheric pressure (pa) in float format."
   ],
   "metadata": {}
  },
  {
   "cell_type": "code",
   "execution_count": 45,
   "source": [
    "# t1 Enthalpy \n",
    "h_J1 = psy.GetSatAirEnthalpy(2.0, 101325.0) # Output in J / kg da\n",
    "print (h_J1) # As values of _h_ in chart 1 are expressed in kj / kg da we convert to KJ\n",
    "h_kJ1 = h_J1 / 1000\n",
    "print (h_kJ1) # kJ / kg da"
   ],
   "outputs": [
    {
     "output_type": "stream",
     "name": "stdout",
     "text": [
      "12941.685018550921\n",
      "12.94168501855092\n"
     ]
    }
   ],
   "metadata": {}
  },
  {
   "cell_type": "markdown",
   "source": [
    "To retrieve t1's humidity ratio _W_ at 2°C we use psychrolib's method 'GetHumRatioFromEnthalpyAndTDryBulb' This require enthalpy value in joules and temperature (°C) inputs."
   ],
   "metadata": {}
  },
  {
   "cell_type": "code",
   "execution_count": 46,
   "source": [
    "W_kg1 = psy.GetHumRatioFromEnthalpyAndTDryBulb(h_J1, 2.0)\n",
    "print(W_kg1) # As values of _W_ in chart 1 are expressed in gw / kg da we convert to gw\n",
    "W_g1 = W_Kg1 * 1000 \n",
    "print(W_g1) # gw / kg da"
   ],
   "outputs": [
    {
     "output_type": "stream",
     "name": "stdout",
     "text": [
      "0.004363635463664969\n",
      "4.363635463664969\n"
     ]
    }
   ],
   "metadata": {}
  }
 ],
 "metadata": {
  "interpreter": {
   "hash": "31f2aee4e71d21fbe5cf8b01ff0e069b9275f58929596ceb00d14d90e3e16cd6"
  },
  "kernelspec": {
   "name": "python3",
   "display_name": "Python 3.8.10 64-bit"
  },
  "language_info": {
   "codemirror_mode": {
    "name": "ipython",
    "version": 3
   },
   "file_extension": ".py",
   "mimetype": "text/x-python",
   "name": "python",
   "nbconvert_exporter": "python",
   "pygments_lexer": "ipython3",
   "version": "3.8.10"
  },
  "orig_nbformat": 4
 },
 "nbformat": 4,
 "nbformat_minor": 2
}