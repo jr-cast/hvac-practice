{
 "cells": [
  {
   "cell_type": "markdown",
   "source": [
    "# Example 2: _Moist air sensible heating or cooling_\n",
    "\n",
    "Adding (heating) or removing (cooling) heat alone from moist air is represented by a horizontal line due to humidity ratio W remains unchanged. Figure 2 shows a device that adds heat to a stream of steady-flow moist air.\n",
    "\n",
    "For steady-flow conditions, the required rate of heat addition is:\n",
    "\n",
    "        1 q 2 = m da ( h 2 – h 1 )\n",
    "\n",
    "Moist air, saturated at 2°C, enters a heating coil at a rate of 10 m 3 /s. Air leaves the coil at 40°C. Find the required rate of heat that needs to be added to the air stream to increase its temperature from 2°C to 40°C\n",
    "\n",
    "![image info](./static/fig2.png)\n"
   ],
   "metadata": {}
  },
  {
   "cell_type": "markdown",
   "source": [
    "## Import of previously mentioned python libraries and selecting the desired Unit System, in this case it'll be SI:\n",
    "* psychrolib https://github.com/psychrometrics/psychrolib\n",
    "* psychrochart https://github.com/azogue/psychrochart"
   ],
   "metadata": {}
  },
  {
   "cell_type": "code",
   "execution_count": 1,
   "source": [
    "import psychrolib as psy \n",
    "import psychrochart as chart\n",
    "psy.SetUnitSystem(psy.SI) #SI units"
   ],
   "outputs": [],
   "metadata": {}
  },
  {
   "cell_type": "markdown",
   "source": [
    "As figures shows, values on t1 and t2 are:\n",
    "\n",
    "1. Mass of dry air (mda) \n",
    "2. Enthalpy (h1)\n",
    "3. Humidity ratio (W)\n",
    "\n",
    "Because rate of heat is steady-flow (q) and humidity ration (W) remains the same in a sensible process, these values are constant.  \n"
   ],
   "metadata": {}
  },
  {
   "cell_type": "markdown",
   "source": [
    "# Values on t1"
   ],
   "metadata": {}
  },
  {
   "cell_type": "code",
   "execution_count": null,
   "source": [
    "# Values on t1 \n",
    "# Mass of dry air in Kg da / s \n",
    "mda = mass_f / v1"
   ],
   "outputs": [],
   "metadata": {}
  }
 ],
 "metadata": {
  "interpreter": {
   "hash": "31f2aee4e71d21fbe5cf8b01ff0e069b9275f58929596ceb00d14d90e3e16cd6"
  },
  "kernelspec": {
   "name": "python3",
   "display_name": "Python 3.8.10 64-bit"
  },
  "language_info": {
   "codemirror_mode": {
    "name": "ipython",
    "version": 3
   },
   "file_extension": ".py",
   "mimetype": "text/x-python",
   "name": "python",
   "nbconvert_exporter": "python",
   "pygments_lexer": "ipython3",
   "version": "3.8.10"
  },
  "orig_nbformat": 4
 },
 "nbformat": 4,
 "nbformat_minor": 2
}