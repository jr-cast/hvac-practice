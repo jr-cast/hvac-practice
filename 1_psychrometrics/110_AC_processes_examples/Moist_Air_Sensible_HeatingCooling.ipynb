{
 "cells": [
  {
   "cell_type": "markdown",
   "metadata": {},
   "source": [
    "# Example 2: _Moist air sensible heating or cooling_\n",
    "\n",
    "Adding (heating) or removing (cooling) heat alone from moist air is represented by a horizontal line due to humidity ratio W remains unchanged. Figure 2 shows a device that adds heat to a stream of steady-flow moist air.\n",
    "\n",
    "For steady-flow conditions, the required rate of heat addition is:\n",
    "\n",
    "        1 q 2 = m da ( h 2 – h 1 )\n",
    "\n",
    "Moist air, saturated at 2°C, enters a heating coil at a rate of 10 m 3 /s. Air leaves the coil at 40°C. Find the required rate of heat that needs to be added to the air stream to increase its temperature from 2°C to 40°C\n",
    "\n",
    "![image info](./static/fig2.png)\n"
   ]
  },
  {
   "cell_type": "markdown",
   "metadata": {},
   "source": [
    "We start by importing the previously mentioned python libraries:\n",
    "\n",
    "* psychrolib https://github.com/psychrometrics/psychrolib\n",
    "* psychrochart https://github.com/azogue/psychrochart"
   ]
  },
  {
   "cell_type": "code",
   "execution_count": null,
   "metadata": {},
   "outputs": [],
   "source": []
  }
 ],
 "metadata": {
  "interpreter": {
   "hash": "31f2aee4e71d21fbe5cf8b01ff0e069b9275f58929596ceb00d14d90e3e16cd6"
  },
  "kernelspec": {
   "display_name": "Python 3.8.10 64-bit",
   "name": "python3"
  },
  "language_info": {
   "codemirror_mode": {
    "name": "ipython",
    "version": 3
   },
   "file_extension": ".py",
   "mimetype": "text/x-python",
   "name": "python",
   "nbconvert_exporter": "python",
   "pygments_lexer": "ipython3",
   "version": "3.8.10"
  },
  "orig_nbformat": 4
 },
 "nbformat": 4,
 "nbformat_minor": 2
}