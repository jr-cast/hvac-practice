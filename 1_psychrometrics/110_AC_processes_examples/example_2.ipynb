{
 "cells": [
  {
   "cell_type": "markdown",
   "metadata": {},
   "source": [
    "# Example 2: _Moist air sensible heating or cooling_\n",
    "\n",
    "Adding (heating) or removing (cooling) heat alone from moist air is represented by a horizontal line due to humidity ratio W remains unchanged. Figure 2 shows a device that adds heat to a stream of steady-flow moist air.\n",
    "\n",
    "For steady-flow conditions, the required rate of heat addition is:\n",
    "\n",
    "        1 q 2 = m da (h 2 – h 1 )\n",
    "\n",
    "![image info](./static/fig2.png)\n",
    "\n",
    "Moist air, saturated at 2°C, enters a heating coil at a rate of 10 m 3 /s. Air leaves the coil at 40°C. Find the required rate of heat that needs to be added to the air stream to increase its temperature from 2°C to 40°C\n"
   ]
  },
  {
   "cell_type": "code",
   "execution_count": null,
   "metadata": {},
   "outputs": [],
   "source": [
    "# Mass flow air is given in cubic meters over secs (m3/s)\n",
    "mass_f = 10.0 \n"
   ]
  }
 ],
 "metadata": {
  "interpreter": {
   "hash": "31f2aee4e71d21fbe5cf8b01ff0e069b9275f58929596ceb00d14d90e3e16cd6"
  },
  "kernelspec": {
   "display_name": "Python 3.8.10 64-bit",
   "name": "python3"
  },
  "language_info": {
   "name": "python",
   "version": ""
  },
  "orig_nbformat": 4
 },
 "nbformat": 4,
 "nbformat_minor": 2
}