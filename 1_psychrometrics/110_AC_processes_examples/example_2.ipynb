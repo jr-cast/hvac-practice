{
 "cells": [
  {
   "cell_type": "markdown",
   "metadata": {},
   "source": [
    "# Example 2: _Moist air sensible heating or cooling_\n",
    "\n",
    "\n",
    "Moist air, saturated at 2°C, enters heating coil at 10 m 3 /s rate, air leaves the coil at 40°C. Find the required rate of heat addition (1q2)\n",
    "\n",
    "![image info](./static/fig2.png)\n",
    "\n",
    "where 1q2 = m da (h2 - h1)\n",
    "\n"
   ]
  },
  {
   "cell_type": "code",
   "execution_count": null,
   "metadata": {},
   "outputs": [],
   "source": [
    "# Mass flow air is given in cubic meters over secs (m3/s)\n",
    "mass_f = 10.0 \n"
   ]
  }
 ],
 "metadata": {
  "interpreter": {
   "hash": "31f2aee4e71d21fbe5cf8b01ff0e069b9275f58929596ceb00d14d90e3e16cd6"
  },
  "kernelspec": {
   "display_name": "Python 3.8.10 64-bit",
   "name": "python3"
  },
  "language_info": {
   "name": "python",
   "version": ""
  },
  "orig_nbformat": 4
 },
 "nbformat": 4,
 "nbformat_minor": 2
}