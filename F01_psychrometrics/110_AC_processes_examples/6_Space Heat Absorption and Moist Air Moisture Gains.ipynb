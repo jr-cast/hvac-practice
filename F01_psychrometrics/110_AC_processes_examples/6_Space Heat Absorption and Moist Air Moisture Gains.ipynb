{
 "cells": [
  {
   "cell_type": "markdown",
   "source": [
    "# Space Heat Absorption and Moist Air Moisture Gains\n",
    "\n",
    "##### Air conditioning required for a space is usually determined by:\n",
    "1. The quantity of moist air to be supplied\n",
    "2. The supply air condition necessary to remove given amounts of energy and water from the space at the exhaust condition specified.\n",
    "\n",
    "##### Figure 10 shows a space with incident rates of energy and moisture gains, where:\n",
    "\n",
    "From transfers thru boundaries and frrom heat sources within space:\n",
    "\n",
    "        qs = Sum of all rates of heat gain in the space \n",
    "\n",
    "From transfers through boundaries and from sources within the space:\n",
    "\n",
    "        Zm · w = Sum of all rates of moisture gain on the space arising \n",
    "\n",
    "Each kilogram of water vapor (kgw) added adds an amount of energy equal to its specific enthalpy.\n",
    "\n",
    "![Example 6](./static/fig10.png)\n",
    "\n",
    "For this type of HVAC process and...\n",
    "\n",
    "![Formulas](./static/formulaex6.png)\n",
    "\n",
    "##### From previous formulas, on the ASHRAE chart and for a given state of withdrawn air, all possible states (conditions) for supply air must lie on a straight line drawn through the state point of withdrawn air, with its direction specified by the numerical value of:\n",
    "\n",
    "      Delta h / Delta W = [qs + Sum( mw . hw )] / Sum mw \n",
    "\n",
    "##### This line is the condition line for the given problem."
   ],
   "metadata": {}
  },
  {
   "cell_type": "markdown",
   "source": [
    "### Example 6: \n",
    "\n",
    "##### Moist air is withdrawn from a room at 25°C dry-bulb temperature and 19°C thermodynamic wet-bulb temperature. The sensible rate of heat gain (qs) for the space is 9 kW. A rate of moisture gain of 0.0015 kg w / s occurs from the space occupants. Moisture is assumed as saturated water vapor at 30°C. Moist air is introduced into the room at a dry-bulb temperature of 15°C. Find the required thermodynamic wet-bulb temperature and volume flow rate of the supply air.\n",
    "\n",
    "#### In order to find WB of t1 we need to get the h/W ratio. From formula "
   ],
   "metadata": {}
  }
 ],
 "metadata": {
  "orig_nbformat": 4,
  "language_info": {
   "name": "python"
  }
 },
 "nbformat": 4,
 "nbformat_minor": 2
}