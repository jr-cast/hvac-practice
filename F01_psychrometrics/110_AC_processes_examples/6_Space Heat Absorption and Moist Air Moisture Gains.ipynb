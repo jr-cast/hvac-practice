{
 "cells": [
  {
   "cell_type": "markdown",
   "source": [
    "# Space Heat Absorption and Moist Air Moisture Gains\n",
    "\n",
    "##### Air conditioning required for a space is usually determined by:\n",
    "1. The quantity of moist air to be supplied\n",
    "2. The supply air condition necessary to remove given amounts of energy and water from the space at the exhaust condition specified.\n",
    "\n",
    "##### Figure 10 shows a space with incident rates of energy and moisture gains, where:\n",
    "\n",
    "From transfers thru boundaries and frrom heat sources within space:\n",
    "\n",
    "        qs = Sum of all rates of heat gain in the space \n",
    "\n",
    "From transfers through boundaries and from sources within the space:\n",
    "\n",
    "        Zm · w = Sum of all rates of moisture gain on the space arising \n",
    "\n",
    "Each kilogram of water vapor (kgw) added adds an amount of energy equal to its specific enthalpy.\n",
    "\n",
    "![Example 6](./static/fig10.png)\n",
    "\n",
    "For this type of HVAC process and...\n",
    "\n",
    "![Formulas](./static/formulaex6.png)\n",
    "\n",
    "##### From previous formulas, on the ASHRAE chart and for a given state of withdrawn air, all possible states (conditions) for supply air must lie on a straight line drawn through the state point of withdrawn air, with its direction specified by the numerical value of:\n",
    "\n",
    "![Formula48](./static/formula48.png)\n",
    "\n",
    "##### This line is the condition line for the given problem."
   ],
   "metadata": {}
  },
  {
   "cell_type": "markdown",
   "source": [
    "### Example 6: \n",
    "\n",
    "##### Moist air is withdrawn from a room at 25°C dry-bulb temperature and 19°C thermodynamic wet-bulb temperature. The sensible rate of heat gain (qs) for the space is 9 kW. A rate of moisture gain of 0.0015 kg w / s occurs from the space occupants. Moisture is assumed as saturated water vapor at 30°C. Moist air is introduced into the room at a dry-bulb temperature of 15°C. Find the required thermodynamic wet-bulb temperature and volume flow rate of the supply air.\n",
    "\n",
    "##### In order to find WB of t1 we need to get the h/W ratio we substitute value in formula 48. The only missing values is the specific enthalpy of  saturated vapor (hg), with known saturation at 30°C we go to table 3 and locate the missing value.\n",
    "\n",
    "![hg value](./static/hg_ex6.png)"
   ],
   "metadata": {}
  },
  {
   "cell_type": "code",
   "execution_count": 14,
   "source": [
    "# Values substitution in formula 48\n",
    "\n",
    "enthalpy_humidity_ratio = (9 + (0.0015*2555.58))/0.0015\n",
    "print(enthalpy_humidity_ratio) # value in kJ/kgw"
   ],
   "outputs": [
    {
     "output_type": "stream",
     "name": "stdout",
     "text": [
      "8555.58\n"
     ]
    }
   ],
   "metadata": {}
  },
  {
   "cell_type": "markdown",
   "source": [],
   "metadata": {}
  },
  {
   "cell_type": "markdown",
   "source": [
    "##### Once resolved we go to protractor in chart, locate value and trace a line.\n",
    "\n",
    "![protractor](./static/protractor_ex6.png)"
   ],
   "metadata": {}
  },
  {
   "cell_type": "markdown",
   "source": [
    "##### Finally, we draw a parallel line from t2 known values that intersects with t1 DB: \n",
    "\n",
    "![result_ex6](./static/result_ex6.png)\n",
    "\n",
    "##### DB temperature of air inyection equals: **14 °C**\n",
    "\n"
   ],
   "metadata": {}
  },
  {
   "cell_type": "markdown",
   "source": [
    "##### For volume flow rate of the actual injected air into the space, formula 46 and 47 can be utilised, for example from formula 46:\n",
    "\n",
    "        mda = qs + ( mw x hg ) / (h2 - h1)"
   ],
   "metadata": {}
  },
  {
   "cell_type": "code",
   "execution_count": 15,
   "source": [
    "# values substitution on formula 46\n",
    "mda = (9 + (0.0015 * 2555.58))/(54 - 39)\n",
    "print(mda) # value of mass of dry air at t1\n",
    "\n",
    "# for value of total mix volume flow mix we multiple the mda for specific volume of dry air (v) of t1\n",
    "import psychrolib as psy\n",
    "psy.SetUnitSystem(psy.SI)\n",
    "\n",
    "v1 = psy.GetDryAirVolume(15, 101325.0)\n",
    "print(v1) # in m3/kgda\n",
    "\n",
    "# total volume flow rate of supply air\n",
    "total_air_supply = mda * v1\n",
    "print(total_air_supply) # value in m3 / s\n"
   ],
   "outputs": [
    {
     "output_type": "stream",
     "name": "stdout",
     "text": [
      "0.855558\n",
      "0.8162956062176164\n",
      "0.6983882362643316\n"
     ]
    }
   ],
   "metadata": {}
  }
 ],
 "metadata": {
  "orig_nbformat": 4,
  "language_info": {
   "name": "python",
   "version": "3.8.10",
   "mimetype": "text/x-python",
   "codemirror_mode": {
    "name": "ipython",
    "version": 3
   },
   "pygments_lexer": "ipython3",
   "nbconvert_exporter": "python",
   "file_extension": ".py"
  },
  "kernelspec": {
   "name": "python3",
   "display_name": "Python 3.8.10 64-bit"
  },
  "interpreter": {
   "hash": "916dbcbb3f70747c44a77c7bcd40155683ae19c65e1c03b4aa3499c5328201f1"
  }
 },
 "nbformat": 4,
 "nbformat_minor": 2
}