{
 "cells": [
  {
   "cell_type": "markdown",
   "source": [
    "# Space Heat Absorption and Moist Air Moisture Gains\n",
    "\n",
    "### Air conditioning required for a space is usually determined by (1) the quantity of moist air to be supplied, and (2) the supply air condition necessary to remove given amounts of energy and water from the space at the exhaust condition specified.\n",
    "\n",
    "### Figure 10 shows a space with incident rates of energy and moisture gains. The quantity q s denotes the net sum of all rates of heat gain in the space, arising from transfers through boundaries and from sources within the space. This heat gain involves energy addition alone and does not include energy contributions from water (or water vapor) addition. It is usually called the sensible heat gain. The quantity Zm · w denotes the net sum of all rates of moisture gain on the space arising from transfers through boundaries and from sources within the space.\n",
    "\n"
   ],
   "metadata": {}
  }
 ],
 "metadata": {
  "orig_nbformat": 4,
  "language_info": {
   "name": "python"
  }
 },
 "nbformat": 4,
 "nbformat_minor": 2
}