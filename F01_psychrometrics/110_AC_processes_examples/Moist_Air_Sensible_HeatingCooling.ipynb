{
 "cells": [
  {
   "cell_type": "markdown",
   "source": [
    "Adding (heating) or removing (cooling) heat alone from moist air is represented by a horizontal line due to humidity ratio W remains unchanged. Figure 2 shows a device that adds heat to a stream of steady-flow moist air.\n",
    "\n",
    "For steady-flow conditions, the required rate of heat addition is:\n",
    "\n",
    "        1 q 2 = m da ( h 2 – h 1 )\n",
    "\n",
    "# Example 2: _Moist air sensible heating or cooling_\n",
    "\n",
    "## Part 1: Obtaining psychrometric values\n",
    "\n",
    "Moist air, saturated at 2°C, enters a heating coil at a rate of 10 m 3 /s. Air leaves the coil at 40°C. Find the required rate of heat that needs to be added to the air stream to increase its temperature from 2°C to 40°C\n",
    "\n",
    "![image info](./static/fig2.png)\n"
   ],
   "metadata": {}
  },
  {
   "cell_type": "markdown",
   "source": [
    "Import of previously mentioned python libraries and selecting the desired Unit System, in this case it'll be SI:\n",
    "* psychrolib https://github.com/psychrometrics/psychrolib\n",
    "* psychrochart https://github.com/azogue/psychrochart"
   ],
   "metadata": {}
  },
  {
   "cell_type": "code",
   "execution_count": 27,
   "source": [
    "import psychrolib as psy \n",
    "import psychrochart as chart\n",
    "psy.SetUnitSystem(psy.SI) #Setting to SI units"
   ],
   "outputs": [],
   "metadata": {}
  },
  {
   "cell_type": "markdown",
   "source": [
    "As fig shows values on t1 and t2 are:\n",
    "1. Mass of dry air (mda) \n",
    "2. Enthalpy (h1)\n",
    "3. Humidity ratio (W)\n",
    "\n",
    "Due to steady-flow (m) and humidity ratio (W) remaining unchanged in a sensible process, values are equal in t1 and t2.  \n"
   ],
   "metadata": {}
  },
  {
   "cell_type": "markdown",
   "source": [
    "### Calculate initial values of t1 (2°C)   \n"
   ],
   "metadata": {}
  },
  {
   "cell_type": "code",
   "execution_count": 28,
   "source": [
    "# flow rate of air is given in cubic meters over secs (m3/s) (volume flow rate, which accounts for total gas volume)\n",
    "flow_r = 10.0  "
   ],
   "outputs": [],
   "metadata": {}
  },
  {
   "cell_type": "markdown",
   "source": [
    "To retrieve t1's moist saturated enthalpy at 2°C we use psychrolib's method 'GetSatAirEnthalpy' This require to enter actual temperature value (°C) and atmospheric pressure (pa) in float format."
   ],
   "metadata": {}
  },
  {
   "cell_type": "code",
   "execution_count": 29,
   "source": [
    "# t1 Enthalpy \n",
    "h_J1 = psy.GetSatAirEnthalpy(2.0, 101325.0) # Output in J / kg da\n",
    "print (h_J1) # As values of _h_ in chart 1 are expressed in kj / kg da we convert to KJ\n",
    "h_kJ1 = h_J1 / 1000\n",
    "print (h_kJ1) # kJ / kg da"
   ],
   "outputs": [
    {
     "output_type": "stream",
     "name": "stdout",
     "text": [
      "12941.685018550921\n",
      "12.94168501855092\n"
     ]
    }
   ],
   "metadata": {}
  },
  {
   "cell_type": "markdown",
   "source": [
    "To retrieve t1's humidity ratio _W_ at 2°C we use psychrolib's method 'GetHumRatioFromEnthalpyAndTDryBulb' This require enthalpy value in joules and temperature (°C) inputs."
   ],
   "metadata": {}
  },
  {
   "cell_type": "code",
   "execution_count": 30,
   "source": [
    "W_kg1 = psy.GetHumRatioFromEnthalpyAndTDryBulb(h_J1, 2.0)\n",
    "print(W_kg1) # As values of _W_ in chart 1 are expressed in gw / kg da we convert to gw\n",
    "W_g1 = W_kg1 * 1000 \n",
    "print(W_g1) # gw / kg da"
   ],
   "outputs": [
    {
     "output_type": "stream",
     "name": "stdout",
     "text": [
      "0.004363635463664969\n",
      "4.363635463664969\n"
     ]
    }
   ],
   "metadata": {}
  },
  {
   "cell_type": "markdown",
   "source": [
    "So far _h_ and _W_ of t1 are defined, however, to determine mass flow rate of dry air (m da) we need a fourth value; specific volume of dry air at t1 (_V_). \n",
    "\n",
    "Thus, total volume flow (m3/s) over specific dry air volume (m3/kg da) = mass flow rate od just the dry air (kg da / s)\n"
   ],
   "metadata": {}
  },
  {
   "cell_type": "markdown",
   "source": [
    "To retrieve t1's specific volume of dry air we use psychrolib's method 'GetDryAirVolume' This require temperature (°C) and atmospheric pressure (pa) inputs."
   ],
   "metadata": {}
  },
  {
   "cell_type": "code",
   "execution_count": 31,
   "source": [
    "v1 = psy.GetDryAirVolume(2.0, 101325) # Specific volume of dry air at t1 given in m3 / g da\n",
    "print(v1)"
   ],
   "outputs": [
    {
     "output_type": "stream",
     "name": "stdout",
     "text": [
      "0.7794681105354058\n"
     ]
    }
   ],
   "metadata": {}
  },
  {
   "cell_type": "markdown",
   "source": [
    "With _v1_ known, m da is calcultated by dividing flow rate of air (10 m3/s) by the specific volume of dry air _v_ to obtain the mass flow rate of dry air in the system; which remains constant. "
   ],
   "metadata": {}
  },
  {
   "cell_type": "code",
   "execution_count": 32,
   "source": [
    "mda = flow_r / v1  # flow rate over specific volume of dray air at t1 \n",
    "print (mda) # Mass flow rate of dry air in Kg da / s "
   ],
   "outputs": [
    {
     "output_type": "stream",
     "name": "stdout",
     "text": [
      "12.829261216512295\n"
     ]
    }
   ],
   "metadata": {}
  },
  {
   "cell_type": "markdown",
   "source": [
    "With all values resolved for t1 and with flow rate and humidity ratio being constant, resolving h2 and subtituing results for 1q2 formula will return the required rate of heat that needs to be added to the air stream to reach 40°C.\n",
    "\n",
    "Hence, to retrieve t2's moist air enthalpy at 40°C we use psychrolib's method 'GetMoistAirEnthalpy' which needs temperature value (°C) and atmospheric pressure (pa) inputs"
   ],
   "metadata": {}
  },
  {
   "cell_type": "code",
   "execution_count": 33,
   "source": [
    "# Initial values for t2 (40°C)\n",
    "h_J2 = psy.GetMoistAirEnthalpy(40.0, W_kg1) # output in J / kg da\n",
    "h_kj2 = h_kJ2 = h_J2 / 1000 # # Return value is in J kg, conversion to Kj/kg da \n",
    "print (h_J2)\n",
    "print (h_kj2)"
   ],
   "outputs": [
    {
     "output_type": "stream",
     "name": "stdout",
     "text": [
      "51478.10677312276\n",
      "51.47810677312276\n"
     ]
    }
   ],
   "metadata": {}
  },
  {
   "cell_type": "code",
   "execution_count": 35,
   "source": [
    "# q = Rate of heat needed to increase air temp from 2°C to 40°C with constant W\n",
    "# q = mda ( h2 -h1) --> q = 12.82 ( 51.47 - 12.94 ) \n",
    "q = mda * (h_kJ2 - h_kJ1) \n",
    "print(q) # output given in kW"
   ],
   "outputs": [
    {
     "output_type": "stream",
     "name": "stdout",
     "text": [
      "494.3938210390892\n"
     ]
    }
   ],
   "metadata": {}
  },
  {
   "cell_type": "markdown",
   "source": [
    "![image info](./static/fig3.png)"
   ],
   "metadata": {}
  },
  {
   "cell_type": "markdown",
   "source": [
    "\n",
    "## Part 2: Plotting results\n",
    "\n",
    "Now that heat rate has been obtained programatically, why not do the same with the psychrometric chart and complement the example with a graphical representation of the process."
   ],
   "metadata": {}
  }
 ],
 "metadata": {
  "interpreter": {
   "hash": "31f2aee4e71d21fbe5cf8b01ff0e069b9275f58929596ceb00d14d90e3e16cd6"
  },
  "kernelspec": {
   "name": "python3",
   "display_name": "Python 3.8.10 64-bit"
  },
  "language_info": {
   "codemirror_mode": {
    "name": "ipython",
    "version": 3
   },
   "file_extension": ".py",
   "mimetype": "text/x-python",
   "name": "python",
   "nbconvert_exporter": "python",
   "pygments_lexer": "ipython3",
   "version": "3.8.10"
  },
  "orig_nbformat": 4
 },
 "nbformat": 4,
 "nbformat_minor": 2
}