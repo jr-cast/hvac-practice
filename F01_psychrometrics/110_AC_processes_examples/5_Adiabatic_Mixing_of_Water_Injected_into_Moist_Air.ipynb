{
 "cells": [
  {
   "cell_type": "markdown",
   "source": [
    "# Adiabatic Mixing of Water Injected into Moist Air\n",
    "\n",
    "### Steam or liquid water can be injected into a moist airstream to raise its humidity, as shown in Figure 8. \n",
    "\n",
    "![figure8](./static/fig8.png)\n",
    "\n",
    "### If mixing is diabatic, the following equations apply:\n",
    "\n",
    "![formula5](./static/formula5.png)"
   ],
   "metadata": {}
  },
  {
   "cell_type": "markdown",
   "source": [
    "### According to which, on the ASHRAE chart, the final state point of the moist air lies on a straight line in the direction fixed by the specific enthalpy of the injected water, drawn through the initial state point of the moist air."
   ],
   "metadata": {}
  },
  {
   "cell_type": "markdown",
   "source": [
    "# Example 5: Adiabatic Mixing of Water Injected into Moist Air"
   ],
   "metadata": {}
  },
  {
   "cell_type": "markdown",
   "source": [
    "### Moist air at 20°C dry-bulb and 8°C thermodynamic wet-bulb temperature is to be processed to a final dew-point temperature of 13°C by adiabatic injection of saturated steam at 110°C. The rate of dry air-flow mda is 2 kg da /s. Find the final dry-bulb temperature of the moist air and the rate of steam flow."
   ],
   "metadata": {}
  }
 ],
 "metadata": {
  "orig_nbformat": 4,
  "language_info": {
   "name": "python",
   "version": "3.8.10",
   "mimetype": "text/x-python",
   "codemirror_mode": {
    "name": "ipython",
    "version": 3
   },
   "pygments_lexer": "ipython3",
   "nbconvert_exporter": "python",
   "file_extension": ".py"
  },
  "kernelspec": {
   "name": "python3",
   "display_name": "Python 3.8.10 64-bit"
  },
  "interpreter": {
   "hash": "916dbcbb3f70747c44a77c7bcd40155683ae19c65e1c03b4aa3499c5328201f1"
  }
 },
 "nbformat": 4,
 "nbformat_minor": 2
}