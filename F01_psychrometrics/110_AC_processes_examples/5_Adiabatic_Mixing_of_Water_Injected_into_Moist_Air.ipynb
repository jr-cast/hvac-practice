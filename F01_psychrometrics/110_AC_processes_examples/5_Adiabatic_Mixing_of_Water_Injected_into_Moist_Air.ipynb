{
 "cells": [
  {
   "cell_type": "markdown",
   "source": [
    "# Adiabatic Mixing of Water Injected into Moist Air\n",
    "\n",
    "### Steam or liquid water can be injected into a moist airstream to raise its humidity, as shown in Figure 8. \n",
    "\n",
    "![figure8](./static/fig8.png)\n",
    "\n",
    "### If mixing is adiabatic, the following equations apply:\n",
    "\n",
    "![formula5](./static/formula5.png)"
   ],
   "metadata": {}
  },
  {
   "cell_type": "markdown",
   "source": [
    "### According to which, on the ASHRAE chart, the final state point of the moist air lies on a straight line in the direction fixed by the specific enthalpy of the injected water, drawn through the initial state point of the moist air."
   ],
   "metadata": {}
  },
  {
   "cell_type": "markdown",
   "source": [
    "# Example 5: Adiabatic Mixing of Water Injected into Moist Air"
   ],
   "metadata": {}
  },
  {
   "cell_type": "markdown",
   "source": [
    "### Moist air at 20°C dry-bulb and 8°C thermodynamic wet-bulb temperature is to be processed to a final dew-point temperature of 13°C by adiabatic injection of saturated steam at 110°C. The rate of dry air-flow mda is 2 kg da /s. Find the final dry-bulb temperature of the moist air and the rate of steam flow."
   ],
   "metadata": {}
  },
  {
   "cell_type": "code",
   "execution_count": 95,
   "source": [
    "import psychrolib as psy\n",
    "psy.SetUnitSystem(psy.SI)"
   ],
   "outputs": [],
   "metadata": {}
  },
  {
   "cell_type": "markdown",
   "source": [
    "### Proterties at t1: "
   ],
   "metadata": {}
  },
  {
   "cell_type": "code",
   "execution_count": 96,
   "source": [
    "# t1 = 20°C DB, 8°C WB\n",
    "w1_kg = psy.GetHumRatioFromTWetBulb(20.0, 8.0, 101325.0)\n",
    "w1 = w1_kg * 1000\n",
    "h1_j = psy.GetMoistAirEnthalpy(20.0, w1_kg)\n",
    "h1 = h1_j / 1000"
   ],
   "outputs": [],
   "metadata": {}
  },
  {
   "cell_type": "markdown",
   "source": [
    "### Properties of injected steam/water: "
   ],
   "metadata": {}
  },
  {
   "cell_type": "code",
   "execution_count": 97,
   "source": [
    "# Saturated steam is injected at 110°C\n",
    "# So we refer to table 3 to find the saturated water vapor enthalpy (h) that appears in formula (45)\n"
   ],
   "outputs": [],
   "metadata": {}
  },
  {
   "cell_type": "markdown",
   "source": [
    "![table3_1](./static/table3_1.png)\n",
    "![table3_2](./static/table3_2.png)"
   ],
   "metadata": {}
  },
  {
   "cell_type": "markdown",
   "source": [
    "### Thus the connecting hw line can be drawn using the protractor on chart 1 with the direction pointing to 2691 kJ/kgw \n",
    "\n",
    "![protractor](./static/protractor.png)"
   ],
   "metadata": {}
  },
  {
   "cell_type": "markdown",
   "source": [
    "### Once the hw line drawn, a second parallel line it's drawn starting at t1. This second line is the condition line. t2 state with added humidity values will be at the intersection of the condition line with a horizontal line that extends from the saturation curve at 13°C.\n",
    "\n",
    "![result_ex5](./static/result_ex5.png)"
   ],
   "metadata": {}
  },
  {
   "cell_type": "markdown",
   "source": [
    "### Hence, dry bulb temperature of t2 with added water vapor equals, 21 °C. To find the rate of steam flow (mw) we refer to the humidity formula of this specific system (previous equations).\n",
    "\n",
    "* From the formula mdaW1 + mw = mdaW2, we can isolate mw \n",
    "* mw = mdaW2 - mdaW1 ---> mw = mda (W2 - W1)\n",
    "\n",
    "Hence, from t1 and already known t2, we can obtain all the missing values to find mw"
   ],
   "metadata": {}
  },
  {
   "cell_type": "code",
   "execution_count": 98,
   "source": [
    "# Humidity ratio (W1)\n",
    "W1_kg= psy.GetHumRatioFromTWetBulb(20.0, 8.0, 101325.0)\n",
    "print(W1_kg)\n",
    "w1 = W1_kg *1000\n",
    "print(w1)\n",
    "# wet bulb for t2\n",
    "Wb2 = psy.GetTWetBulbFromTDewPoint(21.0, 13.0, 101325.0)\n",
    "print(Wb2)\n",
    "# humidity ratio (w2)\n",
    "W2_kg = psy.GetHumRatioFromTWetBulb(21.0, Wb2, 101325.0)\n",
    "print(W2_kg)\n",
    "w2 = W2_kg * 1000\n",
    "print(w2)\n",
    "# specific volume of dry air \n",
    "v1 = psy.GetDryAirVolume(20.0, 101325.0)\n",
    "print(v1)"
   ],
   "outputs": [
    {
     "output_type": "stream",
     "name": "stdout",
     "text": [
      "0.0017766687624073815\n",
      "1.7766687624073816\n",
      "16.036621093592153\n",
      "0.009331231359686772\n",
      "9.331231359686772\n",
      "0.8304600276338513\n"
     ]
    }
   ],
   "metadata": {}
  },
  {
   "cell_type": "markdown",
   "source": [
    "### Values substitution"
   ],
   "metadata": {}
  },
  {
   "cell_type": "code",
   "execution_count": 99,
   "source": [
    "# mw = mda (W2 - W1)\n",
    "# mda->kgda/s w->gw/kgda\n",
    "# mda = 2.0 kgda/s \n",
    "mw = 2 * (w2 - w1) #gw/s\n",
    "print(mw)"
   ],
   "outputs": [
    {
     "output_type": "stream",
     "name": "stdout",
     "text": [
      "15.10912519455878\n"
     ]
    }
   ],
   "metadata": {}
  }
 ],
 "metadata": {
  "orig_nbformat": 4,
  "language_info": {
   "name": "python",
   "version": "3.8.10",
   "mimetype": "text/x-python",
   "codemirror_mode": {
    "name": "ipython",
    "version": 3
   },
   "pygments_lexer": "ipython3",
   "nbconvert_exporter": "python",
   "file_extension": ".py"
  },
  "kernelspec": {
   "name": "python3",
   "display_name": "Python 3.8.10 64-bit"
  },
  "interpreter": {
   "hash": "916dbcbb3f70747c44a77c7bcd40155683ae19c65e1c03b4aa3499c5328201f1"
  }
 },
 "nbformat": 4,
 "nbformat_minor": 2
}