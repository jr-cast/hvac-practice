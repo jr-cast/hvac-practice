{
 "cells": [
  {
   "cell_type": "markdown",
   "source": [
    "### A common process in air-conditioning systems is the adiabatic mixing of two moist air streams. (no heat transfer)\n",
    "\n",
    "### Figure 6 schematically shows the problem. Adiabatic mixing is governed by three equations: \n",
    "\n",
    "![figure6](./static/fig6.png)"
   ],
   "metadata": {}
  },
  {
   "cell_type": "markdown",
   "source": [
    "#### According to which, the state point of the resulting mixture lies on the straight line connecting the shape points of the two strems being mixed, and divides the line into two segments, in the same ratio as the masses of dry air in the two streams. \n"
   ],
   "metadata": {}
  },
  {
   "cell_type": "markdown",
   "source": [
    "# Example 4: Adiabatic Mixing of Two Moist Airstreams\n",
    "#### A stream of 2 m 3 /s of outdoor air at 4°C dry-bulb temperature and 2°C thermodynamic wet-bulb temperature is adiabatically mixed with 6.25 m 3 /s of recirculated air at 25°C dry-bulb temperature and 50% rh. Find the dry-bulb temperature and thermodynamic wet-bulb temperature of the resulting mixture."
   ],
   "metadata": {}
  }
 ],
 "metadata": {
  "orig_nbformat": 4,
  "language_info": {
   "name": "python"
  }
 },
 "nbformat": 4,
 "nbformat_minor": 2
}