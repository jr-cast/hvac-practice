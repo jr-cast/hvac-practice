{
 "cells": [
  {
   "cell_type": "markdown",
   "source": [
    "Moisture condensation occurs when moist air is cooled to a temperature \n",
    "below its initial dew point. Figure 4 shows schematic\n",
    "cooling coil where moist air is assumed to be uniformly processed.\n",
    "\n",
    "Although water can be removed at various temperatures ranging\n",
    "from the initial dew point to the final saturation temperature, it is\n",
    "assumed that condensed water is cooled to the final air temperature\n",
    "t 2 before it drains from the system."
   ],
   "metadata": {}
  },
  {
   "cell_type": "markdown",
   "source": [
    "![Schematic of Device for Cooling Moist Air](./static/fig4.png)"
   ],
   "metadata": {}
  },
  {
   "cell_type": "markdown",
   "source": [
    "# Example 3: Moist Air Cooling and Dehumidification\n",
    "## Psychrometric values\n",
    "\n",
    "Moist air at 30°C dry-bulb temperature and 50% rh enters a\n",
    "cooling coil at 5 m 3 /s and is processed to a final saturation condition at\n",
    "10°C. Find the kW of refrigeration required (q2)\n",
    "\n",
    "From figure 4: \n",
    "\n",
    "        1q2 = mda [( h 1 – h 2 ) – (W 1 – W 2 ) hw2 ]"
   ],
   "metadata": {}
  },
  {
   "cell_type": "code",
   "execution_count": 131,
   "source": [
    "# import psychrometric library and declare SI units"
   ],
   "outputs": [],
   "metadata": {}
  },
  {
   "cell_type": "code",
   "execution_count": 132,
   "source": [
    "import psychrolib as psy\n",
    "psy.SetUnitSystem(psy.SI)"
   ],
   "outputs": [],
   "metadata": {}
  },
  {
   "cell_type": "code",
   "execution_count": 133,
   "source": [
    "# declare known variables\n",
    "\n",
    "flow_r = 5 # in m3/s\n"
   ],
   "outputs": [],
   "metadata": {}
  },
  {
   "cell_type": "markdown",
   "source": [
    "Due to mda equals flow_r / v, we need to get the specific volume in m3/kgda of t1"
   ],
   "metadata": {}
  },
  {
   "cell_type": "code",
   "execution_count": 134,
   "source": [
    "# get specific volume \n",
    "v1 = psy.GetDryAirVolume(30.0, 101325.0)\n",
    "print(v1) # @ m3/kgda"
   ],
   "outputs": [
    {
     "output_type": "stream",
     "name": "stdout",
     "text": [
      "0.8587888704663211\n"
     ]
    }
   ],
   "metadata": {}
  },
  {
   "cell_type": "code",
   "execution_count": 135,
   "source": [
    "# get mda\n",
    "mda = flow_r/v1 # kgda/s\n",
    "print(mda)"
   ],
   "outputs": [
    {
     "output_type": "stream",
     "name": "stdout",
     "text": [
      "5.822152768799865\n"
     ]
    }
   ],
   "metadata": {}
  },
  {
   "cell_type": "markdown",
   "source": [
    "To get enthalpies we need to obtain humidity ratios of t1 and t2, thus:"
   ],
   "metadata": {}
  },
  {
   "cell_type": "code",
   "execution_count": 136,
   "source": [
    "# humidity ratio of t1 (30°C)\n",
    "w1 = psy.GetHumRatioFromRelHum(30.0, 0.5, 101325.0) #in kgw/kgda\n",
    "W1 = w1 * 1000\n",
    "print(w1) #kgw/kgda\n",
    "print(W1) #gw/kgda"
   ],
   "outputs": [
    {
     "output_type": "stream",
     "name": "stdout",
     "text": [
      "0.01331020383863019\n",
      "13.310203838630189\n"
     ]
    }
   ],
   "metadata": {}
  },
  {
   "cell_type": "code",
   "execution_count": 137,
   "source": [
    "# humidity ratio of t2 (10°C)\n",
    "w2 = psy.GetHumRatioFromRelHum(10.0, 1.0, 101325.0) #in kgw/kgda\n",
    "W2 = w2 * 1000\n",
    "print(w2) #kgw/kgda\n",
    "print(W2) #gw/kgda"
   ],
   "outputs": [
    {
     "output_type": "stream",
     "name": "stdout",
     "text": [
      "0.0076300537032615865\n",
      "7.630053703261586\n"
     ]
    }
   ],
   "metadata": {}
  },
  {
   "cell_type": "code",
   "execution_count": 138,
   "source": [
    "# get t1 (30°C) enthalpy\n",
    "h1_j = psy.GetMoistAirEnthalpy(30.0, w1)\n",
    "h1 = h1_j / 1000\n",
    "print(h1_j) #j/kgda\n",
    "print(h1) #kj/kgda"
   ],
   "outputs": [
    {
     "output_type": "stream",
     "name": "stdout",
     "text": [
      "64211.52917460966\n",
      "64.21152917460967\n"
     ]
    }
   ],
   "metadata": {}
  },
  {
   "cell_type": "code",
   "execution_count": 139,
   "source": [
    "# get t2 (10°C) enthalpy\n",
    "h2_j = psy.GetMoistAirEnthalpy(10.0, w2)\n",
    "h2 = h2_j / 1000\n",
    "print(h2_j) #j/kgda\n",
    "print(h2) #kj/kgda"
   ],
   "outputs": [
    {
     "output_type": "stream",
     "name": "stdout",
     "text": [
      "29284.68331073789\n",
      "29.28468331073789\n"
     ]
    }
   ],
   "metadata": {}
  },
  {
   "cell_type": "code",
   "execution_count": 140,
   "source": [
    "# For enthalpy of condensed water mass (hw2) refer to table 3 of Psychrometric chapter\n",
    "hw2 = 40.02 # kj/kgw"
   ],
   "outputs": [],
   "metadata": {}
  },
  {
   "cell_type": "code",
   "execution_count": 141,
   "source": [
    "# values substitution in 1q2 = mda [( h 1 – h 2 ) – (W 1 – W 2 ) hw2 ]\n",
    "print(mda)\n",
    "print(h1, h2)\n",
    "print(w1, w2)\n",
    "\n",
    "q2 = mda * (h1-h2)-((w1-w2)*hw2)\n",
    "print(q2) #KW"
   ],
   "outputs": [
    {
     "output_type": "stream",
     "name": "stdout",
     "text": [
      "5.822152768799865\n",
      "64.21152917460967 29.28468331073789\n",
      "0.01331020383863019 0.0076300537032615865\n",
      "203.1221127433697\n"
     ]
    }
   ],
   "metadata": {}
  }
 ],
 "metadata": {
  "orig_nbformat": 4,
  "language_info": {
   "name": "python",
   "version": "3.8.10",
   "mimetype": "text/x-python",
   "codemirror_mode": {
    "name": "ipython",
    "version": 3
   },
   "pygments_lexer": "ipython3",
   "nbconvert_exporter": "python",
   "file_extension": ".py"
  },
  "kernelspec": {
   "name": "python3",
   "display_name": "Python 3.8.10 64-bit"
  },
  "interpreter": {
   "hash": "916dbcbb3f70747c44a77c7bcd40155683ae19c65e1c03b4aa3499c5328201f1"
  }
 },
 "nbformat": 4,
 "nbformat_minor": 2
}